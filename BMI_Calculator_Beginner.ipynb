{
  "nbformat": 4,
  "nbformat_minor": 0,
  "metadata": {
    "colab": {
      "provenance": [],
      "toc_visible": true
    },
    "kernelspec": {
      "name": "python3",
      "display_name": "Python 3"
    },
    "language_info": {
      "name": "python"
    }
  },
  "cells": [
    {
      "cell_type": "code",
      "source": [
        "name = input(\"Enter your name:\")\n",
        "weight = int(input(\"Enter your weight in pounds:\"))\n",
        "height = int(input(\"Enter your height in inches:\"))\n",
        "BMI = (weight*703)/(height*height)\n",
        "print(name + \" your BMI ratio is :\",BMI)\n",
        "if BMI>0:\n",
        "  if (BMI < 18.5):\n",
        "    print(name + \", you are underweight.\")\n",
        "  elif (BMI<=24.9):\n",
        "    print(name + \", you are normal weight.\")\n",
        "  elif (BMI<29.9):\n",
        "    print(name + \", you are overweight. You need to exercise more.\")\n",
        "  elif (BMI<34.9):\n",
        "    print(name + \", you are obese.\")\n",
        "  elif (BMI<39.9):\n",
        "    print(name + \", you are severely obese.\")\n",
        "  else :\n",
        "    print(name + \", you are morbidly obese.\")\n",
        "else:\n",
        "  print(\"Enter valid input.\")\n"
      ],
      "metadata": {
        "id": "ngjWMTqIG7UG"
      },
      "execution_count": null,
      "outputs": []
    },
    {
      "cell_type": "code",
      "source": [],
      "metadata": {
        "id": "yxQ3MyA3G8q7"
      },
      "execution_count": null,
      "outputs": []
    },
    {
      "cell_type": "code",
      "source": [],
      "metadata": {
        "id": "cuyQT5y9JvxM"
      },
      "execution_count": null,
      "outputs": []
    },
    {
      "cell_type": "code",
      "source": [],
      "metadata": {
        "id": "WRwqkL8hDxXV"
      },
      "execution_count": null,
      "outputs": []
    }
  ]
}