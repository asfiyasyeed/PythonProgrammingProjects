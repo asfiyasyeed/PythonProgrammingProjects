{
  "nbformat": 4,
  "nbformat_minor": 0,
  "metadata": {
    "colab": {
      "provenance": []
    },
    "kernelspec": {
      "name": "python3",
      "display_name": "Python 3"
    },
    "language_info": {
      "name": "python"
    }
  },
  "cells": [
    {
      "cell_type": "code",
      "execution_count": null,
      "metadata": {
        "colab": {
          "base_uri": "https://localhost:8080/"
        },
        "id": "uJQ-v8L2LHGJ",
        "outputId": "e5209622-cfd0-4a17-f47e-486cd0c47457"
      },
      "outputs": [
        {
          "output_type": "stream",
          "name": "stdout",
          "text": [
            "Welcome to password generator!\n",
            "How many letters do you want in your password? : \n",
            "7\n",
            "How many numbers do you want in your password? : \n",
            "5\n",
            "How many symbols do you want in your password? : \n",
            "3\n",
            "oQ)I99Dq#Y76U\n"
          ]
        }
      ],
      "source": [
        "import random\n",
        "letters = ['a','b','c','d','e','f','g','h','i','j','k','l','m','n','o','p','q','r','s','t','u','v','w','x','y','z','A','B','C','D','E','F','G','H','I','J','K','L','M','N','O','P','Q','R','S','T','U','V','W','X','Y','Z']\n",
        "numbers = ['0','1','2','3','4','5','6','7','8','9']\n",
        "symbols = ['!','@','#','$','%','^','&','*','(',')','+']\n",
        "print(\"Welcome to password generator!\")\n",
        "n_letters = int(input(\"How many letters do you want in your password? : \\n\"))\n",
        "n_numbers = int(input(\"How many numbers do you want in your password? : \\n\"))\n",
        "n_symbols = int(input(\"How many symbols do you want in your password? : \\n\"))\n",
        "password_list = []\n",
        "for i in range(1,n_letters+1):\n",
        "  char = random.choice(letters)\n",
        "  password_list += char\n",
        "for i in range(1,n_numbers):\n",
        "  char = random.choice(numbers)\n",
        "  password_list += char\n",
        "for i in range(1,n_symbols):\n",
        "  char = random.choice(symbols)\n",
        "  password_list += char\n",
        "random.shuffle(password_list)\n",
        "password=\"\"\n",
        "for i in password_list:\n",
        "  password += i\n",
        "print(password)\n",
        "\n",
        "\n",
        "\n"
      ]
    },
    {
      "cell_type": "code",
      "source": [],
      "metadata": {
        "id": "Sf5PljgEPQbX"
      },
      "execution_count": null,
      "outputs": []
    }
  ]
}